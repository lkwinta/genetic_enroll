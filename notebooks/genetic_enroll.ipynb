{
 "cells": [
  {
   "cell_type": "code",
   "execution_count": 1,
   "id": "4bcd83ba",
   "metadata": {},
   "outputs": [],
   "source": [
    "import random\n",
    "import sys\n",
    "from datetime import datetime, timedelta\n",
    "from pathlib import Path\n",
    "\n",
    "import pandas as pd\n",
    "import matplotlib.pyplot as plt\n",
    "\n",
    "sys.path.append(str(Path().resolve().parent))\n",
    "from paths import SCHEDULES, PREFERENCES, OUT"
   ]
  },
  {
   "cell_type": "markdown",
   "id": "61d80d50",
   "metadata": {},
   "source": [
    "### Wczytanie i przygotowanie danych"
   ]
  },
  {
   "cell_type": "code",
   "execution_count": 2,
   "id": "7178b40a",
   "metadata": {},
   "outputs": [],
   "source": [
    "plan = pd.read_csv(SCHEDULES / 'schedule_1.csv', sep=None, engine='python')\n",
    "pref = pd.read_csv(PREFERENCES / 'preferences_1.csv')"
   ]
  },
  {
   "cell_type": "code",
   "execution_count": 3,
   "id": "ecb5a877",
   "metadata": {},
   "outputs": [
    {
     "data": {
      "text/html": [
       "<div>\n",
       "<style scoped>\n",
       "    .dataframe tbody tr th:only-of-type {\n",
       "        vertical-align: middle;\n",
       "    }\n",
       "\n",
       "    .dataframe tbody tr th {\n",
       "        vertical-align: top;\n",
       "    }\n",
       "\n",
       "    .dataframe thead th {\n",
       "        text-align: right;\n",
       "    }\n",
       "</style>\n",
       "<table border=\"1\" class=\"dataframe\">\n",
       "  <thead>\n",
       "    <tr style=\"text-align: right;\">\n",
       "      <th></th>\n",
       "      <th>subject</th>\n",
       "      <th>specialization</th>\n",
       "      <th>capacity</th>\n",
       "      <th>Unnamed: 3</th>\n",
       "      <th>group_id</th>\n",
       "      <th>teacher</th>\n",
       "      <th>classroom</th>\n",
       "      <th>week</th>\n",
       "      <th>day</th>\n",
       "      <th>start_time</th>\n",
       "    </tr>\n",
       "  </thead>\n",
       "  <tbody>\n",
       "    <tr>\n",
       "      <th>0</th>\n",
       "      <td>Przedmiot-1</td>\n",
       "      <td>G</td>\n",
       "      <td>30</td>\n",
       "      <td>30</td>\n",
       "      <td>1</td>\n",
       "      <td>Prowadzący-15</td>\n",
       "      <td>3.27a</td>\n",
       "      <td>NaN</td>\n",
       "      <td>Cz</td>\n",
       "      <td>16:45:00</td>\n",
       "    </tr>\n",
       "    <tr>\n",
       "      <th>1</th>\n",
       "      <td>Przedmiot-1</td>\n",
       "      <td>G</td>\n",
       "      <td>30</td>\n",
       "      <td>30</td>\n",
       "      <td>2</td>\n",
       "      <td>Prowadzący-15</td>\n",
       "      <td>3.27b</td>\n",
       "      <td>NaN</td>\n",
       "      <td>Cz</td>\n",
       "      <td>16:45:00</td>\n",
       "    </tr>\n",
       "    <tr>\n",
       "      <th>2</th>\n",
       "      <td>Przedmiot-1</td>\n",
       "      <td>G</td>\n",
       "      <td>30</td>\n",
       "      <td>30</td>\n",
       "      <td>3</td>\n",
       "      <td>Prowadzący-15</td>\n",
       "      <td>3.27a</td>\n",
       "      <td>NaN</td>\n",
       "      <td>Cz</td>\n",
       "      <td>18:30:00</td>\n",
       "    </tr>\n",
       "    <tr>\n",
       "      <th>3</th>\n",
       "      <td>Przedmiot-1</td>\n",
       "      <td>G</td>\n",
       "      <td>30</td>\n",
       "      <td>30</td>\n",
       "      <td>4</td>\n",
       "      <td>Prowadzący-15</td>\n",
       "      <td>3.27c</td>\n",
       "      <td>NaN</td>\n",
       "      <td>Cz</td>\n",
       "      <td>16:45:00</td>\n",
       "    </tr>\n",
       "    <tr>\n",
       "      <th>4</th>\n",
       "      <td>Przedmiot-1</td>\n",
       "      <td>G</td>\n",
       "      <td>30</td>\n",
       "      <td>30</td>\n",
       "      <td>5</td>\n",
       "      <td>Prowadzący-15</td>\n",
       "      <td>3.27b</td>\n",
       "      <td>NaN</td>\n",
       "      <td>Cz</td>\n",
       "      <td>16:45:00</td>\n",
       "    </tr>\n",
       "  </tbody>\n",
       "</table>\n",
       "</div>"
      ],
      "text/plain": [
       "       subject specialization  capacity  Unnamed: 3  group_id        teacher  \\\n",
       "0  Przedmiot-1              G        30          30         1  Prowadzący-15   \n",
       "1  Przedmiot-1              G        30          30         2  Prowadzący-15   \n",
       "2  Przedmiot-1              G        30          30         3  Prowadzący-15   \n",
       "3  Przedmiot-1              G        30          30         4  Prowadzący-15   \n",
       "4  Przedmiot-1              G        30          30         5  Prowadzący-15   \n",
       "\n",
       "  classroom week day start_time  \n",
       "0     3.27a  NaN  Cz   16:45:00  \n",
       "1     3.27b  NaN  Cz   16:45:00  \n",
       "2     3.27a  NaN  Cz   18:30:00  \n",
       "3     3.27c  NaN  Cz   16:45:00  \n",
       "4     3.27b  NaN  Cz   16:45:00  "
      ]
     },
     "execution_count": 3,
     "metadata": {},
     "output_type": "execute_result"
    }
   ],
   "source": [
    "plan['start_time'] = pd.to_datetime(plan['start_time'], format='%H:%M').dt.time\n",
    "\n",
    "# Zmiana typu zajęć na ich pojemność\n",
    "capacities = {\n",
    "    'L': 15,\n",
    "    'P': 15,\n",
    "    'C': 30,\n",
    "}\n",
    "\n",
    "plan = plan[plan['type'] != 'W']\n",
    "plan['type'] = plan['type'].map(capacities)\n",
    "plan.rename(columns={'type': 'capacity'}, inplace=True)\n",
    "plan.head(5)"
   ]
  },
  {
   "cell_type": "markdown",
   "id": "b37570b6",
   "metadata": {},
   "source": [
    "### Przydatne struktury i funkcje pomocniczne\n"
   ]
  },
  {
   "cell_type": "code",
   "execution_count": 4,
   "id": "810ef464",
   "metadata": {},
   "outputs": [],
   "source": [
    "from collections import defaultdict\n",
    "\n",
    "# Przydatne struktury\n",
    "students = pref['student_id'].unique()\n",
    "subjects = plan['subject'].unique()\n",
    "\n",
    "# Liczba grup dla każdego przedmiotu:\n",
    "# subject -> number of groups\n",
    "num_groups = {}\n",
    "for subject in subjects:\n",
    "    n = plan[plan['subject'] == subject]['group_id'].nunique()\n",
    "    num_groups[subject] = n\n",
    "\n",
    "# Preferencje studentów dla danych grup:\n",
    "# (student_id, subject, group_id): preference\n",
    "pref_dict = {\n",
    "    (row.student_id, row.subject, row.group_id): row.preference\n",
    "    for row in pref.itertuples()\n",
    "}\n",
    "\n",
    "# Pojemności grup:\n",
    "# (subject, group_id): capacity\n",
    "cap_dict = {\n",
    "    (row.subject, row.group_id): row.capacity\n",
    "    for row in plan.itertuples()\n",
    "}\n",
    "\n",
    "# Posortowane preferencje (malejąco po przyznanych punktach):\n",
    "# (student_id, subject): list of (group_id, preference)\n",
    "pref_sorted = pref.sort_values(by=['student_id', 'subject', 'preference'], ascending=[True, True, False])\n",
    "pref_dict_sorted = defaultdict(list) \n",
    "for row in pref_sorted.itertuples():\n",
    "    pref_dict_sorted[(row.student_id, row.subject)].append((row.group_id, row.preference))\n",
    "\n",
    "# Przedziały czasowe zajęć poszczególnych grup\n",
    "# (subject, group_id) -> (day, start_time, end_time)\n",
    "schedule_dict = {}\n",
    "DUR = timedelta(minutes=90)\n",
    "for row in plan.itertuples():\n",
    "    start = datetime.combine(datetime.today(), row.start_time)\n",
    "    schedule_dict[(row.subject, row.group_id)] = (\n",
    "        row.day,\n",
    "        row.start_time,\n",
    "        (start + DUR).time()\n",
    "    )\n"
   ]
  },
  {
   "cell_type": "code",
   "execution_count": 5,
   "id": "795d2e44",
   "metadata": {},
   "outputs": [],
   "source": [
    "def conflicts(day_a, start_a, end_a, day_b, start_b, end_b):\n",
    "    if day_a != day_b:\n",
    "        return False\n",
    "    return (start_a < end_b) and (start_b < end_a)"
   ]
  },
  {
   "cell_type": "markdown",
   "id": "e2ec1cf1",
   "metadata": {},
   "source": [
    "### Tworzenie populacji"
   ]
  },
  {
   "cell_type": "code",
   "execution_count": 6,
   "id": "dc4f93bf",
   "metadata": {},
   "outputs": [],
   "source": [
    "def generate_individual(students, subjects, cap_dict, pref_dict_sorted):\n",
    "    \"\"\"\n",
    "    Generuje jednego osobnika (kompletne przypisanie studentów do grup)\n",
    "\n",
    "    Dla każdego studenta, przypisuje go do najbardziej preferowanej grupy, w której\n",
    "    jest jeszcze miejsce, i która nie koliduje z jego obecnym planem. \n",
    "    Jeśli nigdzie nie ma miejsca, przypisuje go do grupy z najmniejszym przepełnieniem.\n",
    "    \"\"\"\n",
    "\n",
    "    occupancy = {key: 0 for key in cap_dict}\n",
    "    reserved = {stu: [] for stu in students}\n",
    "\n",
    "    df = pd.DataFrame(index=students, columns=subjects)\n",
    "\n",
    "    for student in students:\n",
    "        for subject in subjects:\n",
    "\n",
    "            prefs = pref_dict_sorted[(student, subject)]\n",
    "            for group_id, _pts in prefs:\n",
    "\n",
    "                # Sprawdza czy w grupie jest miejsce\n",
    "                cap = cap_dict.get((subject, group_id), 0)\n",
    "                if occupancy[(subject, group_id)] >= cap:\n",
    "                    continue\n",
    "\n",
    "                # Sprawdza czy student nie ma w tym czasie innych zajęć\n",
    "                day, s, e = schedule_dict[(subject, group_id)]\n",
    "                if any(conflicts(day, s, e, d0, s0, e0) for d0, s0, e0 in reserved[student]):\n",
    "                    continue\n",
    "\n",
    "                df.loc[student, subject] = group_id\n",
    "                occupancy[(subject, group_id)] += 1\n",
    "                reserved[student].append((day, s, e))\n",
    "                break\n",
    "            else:\n",
    "                # !!! To może generować kolizje w planie.\n",
    "                # awaryjnie: w każdej grupie full – weź losową z najmniejszym przepełnieniem\n",
    "                fallback = min(\n",
    "                    [(g, occ) for (subj, g), occ in occupancy.items() if subj == subject],\n",
    "                    key=lambda t: t[1]\n",
    "                )[0]\n",
    "                df.loc[student, subject] = fallback\n",
    "                occupancy[(subject, fallback)] += 1\n",
    "\n",
    "    return df          "
   ]
  },
  {
   "cell_type": "code",
   "execution_count": 7,
   "id": "d6eee875",
   "metadata": {},
   "outputs": [],
   "source": [
    "def generate_population(size, students, subjects, num_groups):\n",
    "    population = []\n",
    "\n",
    "    for _ in range(size):\n",
    "        shuffled = students.copy()\n",
    "        random.shuffle(shuffled)\n",
    "        ind = generate_individual(students, subjects, cap_dict, pref_dict_sorted)\n",
    "        population.append(ind)\n",
    "    return population"
   ]
  },
  {
   "cell_type": "markdown",
   "id": "0f886fc3",
   "metadata": {},
   "source": [
    "### Algorytm genetyczny"
   ]
  },
  {
   "cell_type": "code",
   "execution_count": 8,
   "id": "1d83737d",
   "metadata": {},
   "outputs": [],
   "source": [
    "# TODO Zrobić żeby miało sens\n",
    "def mutate(individual, num_groups, mutation_rate=0.1):\n",
    "    \"\"\"\n",
    "    Dokonuje mutacji osobnika.\n",
    "\n",
    "    Obecnie, losowo zmienia grupy studentom.\n",
    "    \"\"\"\n",
    "    mutated = individual.copy()\n",
    "\n",
    "    for student in mutated.index:\n",
    "        for subject in mutated.columns:\n",
    "            if random.random() < mutation_rate:\n",
    "                new_group = random.randint(1, num_groups[subject])\n",
    "                mutated.loc[student, subject] = new_group\n",
    "\n",
    "    return mutated"
   ]
  },
  {
   "cell_type": "code",
   "execution_count": 9,
   "id": "70d488ee",
   "metadata": {},
   "outputs": [],
   "source": [
    "# TODO Zrobić, żeby miało sens\n",
    "def crossover(parent1, parent2):\n",
    "    \"\"\"\n",
    "    Krzyżuje dwóch osobników i zwraca nowego.\n",
    "\n",
    "    Obecnie, bierze pół planu od jednego rodzica i pół do drugiego\n",
    "    nie patrząc na żadne warunki Xd.\n",
    "    \"\"\"\n",
    "\n",
    "    students = parent1.index.tolist()\n",
    "    subjects = parent1.columns.tolist()\n",
    "    cut = len(students) // 2\n",
    "\n",
    "    child = pd.DataFrame(index=students, columns=subjects)\n",
    "\n",
    "    for i, student in enumerate(students):\n",
    "        source = parent1 if i < cut else parent2\n",
    "        for subject in subjects:\n",
    "            child.loc[student, subject] = source.loc[student, subject]\n",
    "\n",
    "    return child"
   ]
  },
  {
   "cell_type": "code",
   "execution_count": 10,
   "id": "9bf4491b",
   "metadata": {},
   "outputs": [],
   "source": [
    "# Nie jest używane, na razie\n",
    "def overflow_penalty(individual_df, cap_dict, penalty_per_person=100):\n",
    "    \n",
    "    melted = individual_df.melt(ignore_index=False, var_name='subject', value_name='group')\n",
    "    counts = melted.groupby(['subject', 'group']).size()\n",
    "\n",
    "    penalty = 0\n",
    "    for (subject, group), count in counts.items():\n",
    "        cap = cap_dict.get((subject, group), 0)\n",
    "        if count > cap:\n",
    "            penalty += (count - cap) * penalty_per_person\n",
    "\n",
    "    return penalty"
   ]
  },
  {
   "cell_type": "code",
   "execution_count": 11,
   "id": "1a8a66d8",
   "metadata": {},
   "outputs": [],
   "source": [
    "def fitness(individual, pref_dict):\n",
    "    total_points = 0\n",
    "    max_points = pref.groupby(['student_id', 'subject'])['preference'].max().sum()\n",
    "\n",
    "    for student in individual.index:\n",
    "        for subject in individual.columns:\n",
    "            group = individual.loc[student, subject]\n",
    "            key = (student, subject, group)\n",
    "            points = pref_dict.get(key, 0) \n",
    "\n",
    "            total_points += points\n",
    "    \n",
    "    return round(total_points / max_points, 2)"
   ]
  },
  {
   "cell_type": "code",
   "execution_count": 12,
   "id": "dc5721c9",
   "metadata": {},
   "outputs": [],
   "source": [
    "def evolve(\n",
    "    students, subjects, num_groups, pref_dict,\n",
    "    population_size=100, generations=100,\n",
    "    mutation_rate=0.1, elite_size=2\n",
    "):\n",
    "    population = generate_population(population_size, students, subjects, num_groups)\n",
    "    best_individual = None\n",
    "    best_fitness = -1e9\n",
    "    history = []\n",
    "\n",
    "    for gen in range(generations):\n",
    "        scores = list(map(float, [fitness(individual, pref_dict) for individual in population]))\n",
    "        max_f = max(scores)\n",
    "        history.append(max_f)\n",
    "\n",
    "        if max_f > best_fitness:\n",
    "            best_fitness = max_f\n",
    "            best_individual = population[scores.index(max_f)]\n",
    "\n",
    "        sorted_indices = sorted(range(len(scores)), key=lambda i: scores[i], reverse=True)\n",
    "        new_population = [population[i] for i in sorted_indices[:elite_size]]\n",
    "\n",
    "        while len(new_population) < population_size:\n",
    "            p1 = random.choice(population)\n",
    "            p2 = random.choice(population)\n",
    "            child = crossover(p1, p2)\n",
    "            child = mutate(child, num_groups, mutation_rate)\n",
    "            new_population.append(child)\n",
    "\n",
    "        population = new_population\n",
    "\n",
    "        if gen % 10 == 0 or gen == generations - 1:\n",
    "            print(f\"Pokolenie {gen}: najlepszy fitness = {max_f}\")\n",
    "\n",
    "    return best_individual, best_fitness, history"
   ]
  },
  {
   "cell_type": "markdown",
   "id": "1e1da12d",
   "metadata": {},
   "source": [
    "### Ewolucja i generowanie wyników"
   ]
  },
  {
   "cell_type": "code",
   "execution_count": 13,
   "id": "6c72ead1",
   "metadata": {},
   "outputs": [
    {
     "name": "stdout",
     "output_type": "stream",
     "text": [
      "[0.97, 0.97, 0.97, 0.97, 0.97, 0.97, 0.97, 0.97, 0.97, 0.97, 0.97, 0.97, 0.97, 0.97, 0.97, 0.97, 0.97, 0.97, 0.97, 0.97]\n"
     ]
    }
   ],
   "source": [
    "population = generate_population(20, students, subjects, num_groups)\n",
    "scores = list(map(float, [fitness(individual, pref_dict) for individual in population]))\n",
    "print(list(scores))"
   ]
  },
  {
   "cell_type": "code",
   "execution_count": 14,
   "id": "1c317a55",
   "metadata": {},
   "outputs": [
    {
     "name": "stdout",
     "output_type": "stream",
     "text": [
      "Pokolenie 0: najlepszy fitness = 0.97\n",
      "Pokolenie 9: najlepszy fitness = 0.97\n",
      "Najlepszy fitness: 0.97\n"
     ]
    }
   ],
   "source": [
    "best, score, history = evolve(\n",
    "    students=students,\n",
    "    subjects=subjects,\n",
    "    num_groups=num_groups,\n",
    "    pref_dict=pref_dict,\n",
    "    population_size=20,\n",
    "    generations=10,\n",
    "    mutation_rate=0.1,\n",
    "    elite_size=2\n",
    ")\n",
    "\n",
    "print(\"Najlepszy fitness:\", score)"
   ]
  },
  {
   "cell_type": "code",
   "execution_count": 15,
   "id": "03cf0cf2",
   "metadata": {},
   "outputs": [],
   "source": [
    "best.to_csv(OUT / 'output1.csv', sep=';')"
   ]
  },
  {
   "cell_type": "markdown",
   "id": "370c6702",
   "metadata": {},
   "source": [
    "### Testy i statystyki"
   ]
  },
  {
   "cell_type": "code",
   "execution_count": 16,
   "id": "7330ef9c",
   "metadata": {},
   "outputs": [],
   "source": [
    "def score_per_student(df, pref_dict):\n",
    "\n",
    "    scores = []\n",
    "    max_points = pref.groupby(['student_id', 'subject'])['preference'].max()\n",
    "\n",
    "    for student in df.index:\n",
    "        student_max = max_points[student].sum()\n",
    "        student_score = 0\n",
    "        for subject in df.columns:\n",
    "            group = df.loc[student, subject]\n",
    "            key = (student, subject, group)\n",
    "            points = pref_dict.get(key, 0) \n",
    "\n",
    "            student_score += points\n",
    "        \n",
    "        scores.append(round(student_score / student_max, 2))\n",
    "    return scores\n",
    "    "
   ]
  },
  {
   "cell_type": "code",
   "execution_count": 17,
   "id": "debc460b",
   "metadata": {},
   "outputs": [],
   "source": [
    "scores = score_per_student(best, pref_dict)"
   ]
  },
  {
   "cell_type": "code",
   "execution_count": 18,
   "id": "2e978c3f",
   "metadata": {},
   "outputs": [
    {
     "name": "stdout",
     "output_type": "stream",
     "text": [
      "[np.float64(1.0), np.float64(1.0), np.float64(1.0), np.float64(1.0), np.float64(1.0), np.float64(1.0), np.float64(1.0), np.float64(1.0), np.float64(1.0), np.float64(1.0), np.float64(1.0), np.float64(1.0), np.float64(1.0), np.float64(1.0), np.float64(1.0), np.float64(1.0), np.float64(1.0), np.float64(1.0), np.float64(1.0), np.float64(1.0), np.float64(1.0), np.float64(1.0), np.float64(1.0), np.float64(1.0), np.float64(1.0), np.float64(1.0), np.float64(1.0), np.float64(1.0), np.float64(1.0), np.float64(1.0), np.float64(1.0), np.float64(1.0), np.float64(1.0), np.float64(1.0), np.float64(1.0), np.float64(1.0), np.float64(1.0), np.float64(1.0), np.float64(1.0), np.float64(1.0), np.float64(1.0), np.float64(1.0), np.float64(1.0), np.float64(1.0), np.float64(1.0), np.float64(1.0), np.float64(1.0), np.float64(1.0), np.float64(1.0), np.float64(1.0), np.float64(1.0), np.float64(1.0), np.float64(1.0), np.float64(1.0), np.float64(1.0), np.float64(1.0), np.float64(1.0), np.float64(1.0), np.float64(1.0), np.float64(1.0), np.float64(1.0), np.float64(1.0), np.float64(1.0), np.float64(1.0), np.float64(1.0), np.float64(1.0), np.float64(1.0), np.float64(1.0), np.float64(1.0), np.float64(1.0), np.float64(1.0), np.float64(1.0), np.float64(1.0), np.float64(1.0), np.float64(1.0), np.float64(1.0), np.float64(1.0), np.float64(1.0), np.float64(1.0), np.float64(1.0), np.float64(1.0), np.float64(1.0), np.float64(1.0), np.float64(1.0), np.float64(1.0), np.float64(1.0), np.float64(1.0), np.float64(0.98), np.float64(0.98), np.float64(0.98), np.float64(0.98), np.float64(0.98), np.float64(0.98), np.float64(0.98), np.float64(0.98), np.float64(0.98), np.float64(0.98), np.float64(0.98), np.float64(0.98), np.float64(0.98), np.float64(0.97), np.float64(0.97), np.float64(0.97), np.float64(0.97), np.float64(0.97), np.float64(0.97), np.float64(0.97), np.float64(0.97), np.float64(0.97), np.float64(0.97), np.float64(0.97), np.float64(0.97), np.float64(0.97), np.float64(0.97), np.float64(0.97), np.float64(0.97), np.float64(0.97), np.float64(0.97), np.float64(0.97), np.float64(0.97), np.float64(0.97), np.float64(0.97), np.float64(0.97), np.float64(0.97), np.float64(0.97), np.float64(0.97), np.float64(0.97), np.float64(0.97), np.float64(0.97), np.float64(0.97), np.float64(0.97), np.float64(0.97), np.float64(0.97), np.float64(0.97), np.float64(0.97), np.float64(0.97), np.float64(0.97), np.float64(0.97), np.float64(0.97), np.float64(0.97), np.float64(0.97), np.float64(0.97), np.float64(0.97), np.float64(0.97), np.float64(0.97), np.float64(0.97), np.float64(0.97), np.float64(0.97), np.float64(0.97), np.float64(0.97), np.float64(0.97), np.float64(0.97), np.float64(0.97), np.float64(0.97), np.float64(0.97), np.float64(0.97), np.float64(0.95), np.float64(0.95), np.float64(0.95), np.float64(0.95), np.float64(0.95), np.float64(0.95), np.float64(0.95), np.float64(0.95), np.float64(0.95), np.float64(0.95), np.float64(0.95), np.float64(0.95), np.float64(0.95), np.float64(0.95), np.float64(0.95), np.float64(0.95), np.float64(0.95), np.float64(0.95), np.float64(0.95), np.float64(0.95), np.float64(0.95), np.float64(0.95), np.float64(0.95), np.float64(0.95), np.float64(0.95), np.float64(0.95), np.float64(0.94), np.float64(0.94), np.float64(0.94), np.float64(0.94), np.float64(0.94), np.float64(0.94), np.float64(0.94), np.float64(0.94), np.float64(0.94), np.float64(0.94), np.float64(0.94), np.float64(0.94), np.float64(0.94), np.float64(0.94), np.float64(0.94), np.float64(0.94), np.float64(0.94), np.float64(0.94), np.float64(0.94), np.float64(0.94), np.float64(0.94), np.float64(0.94), np.float64(0.94), np.float64(0.92), np.float64(0.92), np.float64(0.92), np.float64(0.92), np.float64(0.92), np.float64(0.92), np.float64(0.92), np.float64(0.92), np.float64(0.91), np.float64(0.91), np.float64(0.9), np.float64(0.89), np.float64(0.89), np.float64(0.89), np.float64(0.86)]\n"
     ]
    },
    {
     "data": {
      "image/png": "[encoded data removed]",
      "text/plain": [
       "<Figure size 1000x500 with 1 Axes>"
      ]
     },
     "metadata": {},
     "output_type": "display_data"
    }
   ],
   "source": [
    "plt.figure(figsize=(10, 5))\n",
    "plt.ylim(0,1.05)\n",
    "plt.plot(sorted(scores, reverse=True))\n",
    "print(sorted(scores, reverse=True))"
   ]
  }
 ],
 "metadata": {
  "kernelspec": {
   "display_name": "3.12.2",
   "language": "python",
   "name": "python3"
  },
  "language_info": {
   "codemirror_mode": {
    "name": "ipython",
    "version": 3
   },
   "file_extension": ".py",
   "mimetype": "text/x-python",
   "name": "python",
   "nbconvert_exporter": "python",
   "pygments_lexer": "ipython3",
   "version": "3.12.2"
  }
 },
 "nbformat": 4,
 "nbformat_minor": 5
}
