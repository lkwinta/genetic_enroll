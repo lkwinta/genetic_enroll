{
 "cells": [
  {
   "cell_type": "code",
   "execution_count": 6,
   "id": "4bcd83ba",
   "metadata": {},
   "outputs": [],
   "source": [
    "import pandas as pd\n",
    "import numpy as np\n",
    "import random"
   ]
  },
  {
   "cell_type": "code",
   "execution_count": 60,
   "id": "7178b40a",
   "metadata": {},
   "outputs": [],
   "source": [
    "plan = pd.read_csv('data/schedules/schedule_1.csv', sep=None, engine='python')\n",
    "pref = pd.read_csv('data/preferences/preferences_1.csv')"
   ]
  },
  {
   "cell_type": "code",
   "execution_count": 61,
   "id": "ecb5a877",
   "metadata": {},
   "outputs": [
    {
     "data": {
      "text/html": [
       "<div>\n",
       "<style scoped>\n",
       "    .dataframe tbody tr th:only-of-type {\n",
       "        vertical-align: middle;\n",
       "    }\n",
       "\n",
       "    .dataframe tbody tr th {\n",
       "        vertical-align: top;\n",
       "    }\n",
       "\n",
       "    .dataframe thead th {\n",
       "        text-align: right;\n",
       "    }\n",
       "</style>\n",
       "<table border=\"1\" class=\"dataframe\">\n",
       "  <thead>\n",
       "    <tr style=\"text-align: right;\">\n",
       "      <th></th>\n",
       "      <th>subject</th>\n",
       "      <th>specialization</th>\n",
       "      <th>capacity</th>\n",
       "      <th>Unnamed: 3</th>\n",
       "      <th>group_id</th>\n",
       "      <th>teacher</th>\n",
       "      <th>classroom</th>\n",
       "      <th>week</th>\n",
       "      <th>day</th>\n",
       "      <th>start_time</th>\n",
       "    </tr>\n",
       "  </thead>\n",
       "  <tbody>\n",
       "    <tr>\n",
       "      <th>0</th>\n",
       "      <td>Przedmiot-1</td>\n",
       "      <td>G</td>\n",
       "      <td>30</td>\n",
       "      <td>30</td>\n",
       "      <td>1</td>\n",
       "      <td>Prowadzący-15</td>\n",
       "      <td>3.27a</td>\n",
       "      <td>NaN</td>\n",
       "      <td>Cz</td>\n",
       "      <td>16:45</td>\n",
       "    </tr>\n",
       "    <tr>\n",
       "      <th>1</th>\n",
       "      <td>Przedmiot-1</td>\n",
       "      <td>G</td>\n",
       "      <td>30</td>\n",
       "      <td>30</td>\n",
       "      <td>2</td>\n",
       "      <td>Prowadzący-15</td>\n",
       "      <td>3.27b</td>\n",
       "      <td>NaN</td>\n",
       "      <td>Cz</td>\n",
       "      <td>16:45</td>\n",
       "    </tr>\n",
       "    <tr>\n",
       "      <th>2</th>\n",
       "      <td>Przedmiot-1</td>\n",
       "      <td>G</td>\n",
       "      <td>30</td>\n",
       "      <td>30</td>\n",
       "      <td>3</td>\n",
       "      <td>Prowadzący-15</td>\n",
       "      <td>3.27a</td>\n",
       "      <td>NaN</td>\n",
       "      <td>Cz</td>\n",
       "      <td>18:30</td>\n",
       "    </tr>\n",
       "    <tr>\n",
       "      <th>3</th>\n",
       "      <td>Przedmiot-1</td>\n",
       "      <td>G</td>\n",
       "      <td>30</td>\n",
       "      <td>30</td>\n",
       "      <td>4</td>\n",
       "      <td>Prowadzący-15</td>\n",
       "      <td>3.27c</td>\n",
       "      <td>NaN</td>\n",
       "      <td>Cz</td>\n",
       "      <td>16:45</td>\n",
       "    </tr>\n",
       "    <tr>\n",
       "      <th>4</th>\n",
       "      <td>Przedmiot-1</td>\n",
       "      <td>G</td>\n",
       "      <td>30</td>\n",
       "      <td>30</td>\n",
       "      <td>5</td>\n",
       "      <td>Prowadzący-15</td>\n",
       "      <td>3.27b</td>\n",
       "      <td>NaN</td>\n",
       "      <td>Cz</td>\n",
       "      <td>16:45</td>\n",
       "    </tr>\n",
       "  </tbody>\n",
       "</table>\n",
       "</div>"
      ],
      "text/plain": [
       "       subject specialization  capacity  Unnamed: 3  group_id        teacher  \\\n",
       "0  Przedmiot-1              G        30          30         1  Prowadzący-15   \n",
       "1  Przedmiot-1              G        30          30         2  Prowadzący-15   \n",
       "2  Przedmiot-1              G        30          30         3  Prowadzący-15   \n",
       "3  Przedmiot-1              G        30          30         4  Prowadzący-15   \n",
       "4  Przedmiot-1              G        30          30         5  Prowadzący-15   \n",
       "\n",
       "  classroom week day start_time  \n",
       "0     3.27a  NaN  Cz      16:45  \n",
       "1     3.27b  NaN  Cz      16:45  \n",
       "2     3.27a  NaN  Cz      18:30  \n",
       "3     3.27c  NaN  Cz      16:45  \n",
       "4     3.27b  NaN  Cz      16:45  "
      ]
     },
     "execution_count": 61,
     "metadata": {},
     "output_type": "execute_result"
    }
   ],
   "source": [
    "# Zmiana typu zajęć na ich pojemność\n",
    "capacities = {\n",
    "    'L': 15,\n",
    "    'P': 15,\n",
    "    'C': 30,\n",
    "}\n",
    "\n",
    "plan = plan[plan['type'] != 'W']\n",
    "plan['type'] = plan['type'].map(capacities)\n",
    "plan.rename(columns={'type': 'capacity'}, inplace=True)\n",
    "plan.head(5)"
   ]
  },
  {
   "cell_type": "code",
   "execution_count": 62,
   "id": "810ef464",
   "metadata": {},
   "outputs": [
    {
     "name": "stdout",
     "output_type": "stream",
     "text": [
      "{'Przedmiot-1': 8, 'Przedmiot-2': 8, 'Przedmiot-3': 8, 'Przedmiot-4': 8, 'Przedmiot-6': 17, 'Przedmiot-7': 16}\n"
     ]
    }
   ],
   "source": [
    "# Przydatne struktury\n",
    "students = pref['student_id'].unique()\n",
    "subjects = plan['subject'].unique()\n",
    "\n",
    "num_groups = {}\n",
    "for subject in subjects:\n",
    "    n = plan[plan['subject'] == subject]['group_id'].nunique()\n",
    "    num_groups[subject] = n\n",
    "print(num_groups)\n",
    "\n",
    "pref_dict = {\n",
    "    (row.student_id, row.subject, row.group_id): row.preference\n",
    "    for row in pref.itertuples()\n",
    "}"
   ]
  },
  {
   "cell_type": "code",
   "execution_count": 63,
   "id": "815b1079",
   "metadata": {},
   "outputs": [],
   "source": [
    "# Przykład jendego osobnika\n",
    "individual_df = pd.DataFrame(index=students, columns=subjects)\n",
    "for student in students:\n",
    "    for subject in subjects:\n",
    "        individual_df.loc[student, subject] = random.randint(1, num_groups[subject] + 1)"
   ]
  },
  {
   "cell_type": "code",
   "execution_count": 64,
   "id": "1a8a66d8",
   "metadata": {},
   "outputs": [],
   "source": [
    "def fitness(individual, pref_dict):\n",
    "    total_points = 0\n",
    "    max_points = pref.groupby(['student_id', 'subject'])['preference'].max().sum()\n",
    "\n",
    "    for student in individual.index:\n",
    "        for subject in individual.columns:\n",
    "            group = individual.loc[student, subject]\n",
    "            key = (student, subject, group)\n",
    "            points = pref_dict.get(key, 0) \n",
    "\n",
    "            total_points += points\n",
    "    \n",
    "    return round(total_points / max_points, 2)"
   ]
  },
  {
   "cell_type": "code",
   "execution_count": 65,
   "id": "d6eee875",
   "metadata": {},
   "outputs": [],
   "source": [
    "def generate_population(size, students, subjects, num_groups):\n",
    "    population = []\n",
    "\n",
    "    for _ in range(size):\n",
    "        individual = pd.DataFrame(index=students, columns=subjects)\n",
    "\n",
    "        for student in students:\n",
    "            for subject in subjects:\n",
    "                individual.loc[student, subject] = random.randint(1, num_groups[subject] + 1)\n",
    "\n",
    "        population.append(individual)\n",
    "    return population\n"
   ]
  },
  {
   "cell_type": "code",
   "execution_count": 66,
   "id": "1d83737d",
   "metadata": {},
   "outputs": [],
   "source": [
    "def mutate(individual, num_groups, mutation_rate=0.1):\n",
    "    mutated = individual.copy()\n",
    "\n",
    "    for student in mutated.index:\n",
    "        for subject in mutated.columns:\n",
    "            if random.random() < mutation_rate:\n",
    "                new_group = random.randint(1, num_groups[subject] + 1)\n",
    "                mutated.loc[student, subject] = new_group\n",
    "\n",
    "    return mutated"
   ]
  },
  {
   "cell_type": "code",
   "execution_count": 67,
   "id": "70d488ee",
   "metadata": {},
   "outputs": [],
   "source": [
    "def crossover(parent1, parent2):\n",
    "    students = parent1.index.tolist()\n",
    "    subjects = parent1.columns.tolist()\n",
    "    cut = len(students) // 2\n",
    "\n",
    "    child = pd.DataFrame(index=students, columns=subjects)\n",
    "\n",
    "    for i, student in enumerate(students):\n",
    "        source = parent1 if i < cut else parent2\n",
    "        for subject in subjects:\n",
    "            child.loc[student, subject] = source.loc[student, subject]\n",
    "\n",
    "    return child"
   ]
  },
  {
   "cell_type": "code",
   "execution_count": 68,
   "id": "6c72ead1",
   "metadata": {},
   "outputs": [
    {
     "name": "stdout",
     "output_type": "stream",
     "text": [
      "[0.4, 0.4, 0.44, 0.42, 0.4, 0.4, 0.42, 0.42, 0.39, 0.43, 0.42, 0.4, 0.39, 0.42, 0.42, 0.41, 0.4, 0.42, 0.42, 0.4]\n"
     ]
    }
   ],
   "source": [
    "population = generate_population(20, students, subjects, num_groups)\n",
    "scores = list(map(float, [fitness(individual, pref_dict) for individual in population]))\n",
    "print(list(scores))"
   ]
  },
  {
   "cell_type": "code",
   "execution_count": 69,
   "id": "dc5721c9",
   "metadata": {},
   "outputs": [],
   "source": [
    "def evolve(\n",
    "    students, subjects, num_groups, pref_dict,\n",
    "    population_size=100, generations=100,\n",
    "    mutation_rate=0.1, elite_size=2\n",
    "):\n",
    "    population = generate_population(population_size, students, subjects, num_groups)\n",
    "    best_individual = None\n",
    "    best_fitness = -1e9\n",
    "    history = []\n",
    "\n",
    "    for gen in range(generations):\n",
    "        scores = list(map(float, [fitness(individual, pref_dict) for individual in population]))\n",
    "        max_f = max(scores)\n",
    "        history.append(max_f)\n",
    "\n",
    "        if max_f > best_fitness:\n",
    "            best_fitness = max_f\n",
    "            best_individual = population[scores.index(max_f)]\n",
    "\n",
    "        sorted_indices = sorted(range(len(scores)), key=lambda i: scores[i], reverse=True)\n",
    "        new_population = [population[i] for i in sorted_indices[:elite_size]]\n",
    "\n",
    "        while len(new_population) < population_size:\n",
    "            p1 = random.choice(population)\n",
    "            p2 = random.choice(population)\n",
    "            child = crossover(p1, p2)\n",
    "            child = mutate(child, num_groups, mutation_rate)\n",
    "            new_population.append(child)\n",
    "\n",
    "        population = new_population\n",
    "\n",
    "        if gen % 10 == 0 or gen == generations - 1:\n",
    "            print(f\"Pokolenie {gen}: najlepszy fitness = {max_f}\")\n",
    "\n",
    "    return best_individual, best_fitness, history"
   ]
  },
  {
   "cell_type": "code",
   "execution_count": 70,
   "id": "1c317a55",
   "metadata": {},
   "outputs": [
    {
     "name": "stdout",
     "output_type": "stream",
     "text": [
      "Pokolenie 0: najlepszy fitness = 0.45\n",
      "Pokolenie 10: najlepszy fitness = 0.46\n",
      "Pokolenie 20: najlepszy fitness = 0.49\n",
      "Pokolenie 30: najlepszy fitness = 0.49\n",
      "Pokolenie 40: najlepszy fitness = 0.49\n",
      "Pokolenie 50: najlepszy fitness = 0.49\n",
      "Pokolenie 60: najlepszy fitness = 0.49\n",
      "Pokolenie 70: najlepszy fitness = 0.5\n",
      "Pokolenie 80: najlepszy fitness = 0.5\n",
      "Pokolenie 90: najlepszy fitness = 0.5\n",
      "Pokolenie 99: najlepszy fitness = 0.5\n",
      "Najlepszy fitness: 0.5\n",
      "Najlepszy przydział (fragment):\n"
     ]
    }
   ],
   "source": [
    "best, score, history = evolve(\n",
    "    students=students,\n",
    "    subjects=subjects,\n",
    "    num_groups=num_groups,\n",
    "    pref_dict=pref_dict,\n",
    "    population_size=50,\n",
    "    generations=100,\n",
    "    mutation_rate=0.1,\n",
    "    elite_size=2\n",
    ")\n",
    "\n",
    "print(\"Najlepszy fitness:\", score)"
   ]
  }
 ],
 "metadata": {
  "kernelspec": {
   "display_name": "3.12.2",
   "language": "python",
   "name": "python3"
  },
  "language_info": {
   "codemirror_mode": {
    "name": "ipython",
    "version": 3
   },
   "file_extension": ".py",
   "mimetype": "text/x-python",
   "name": "python",
   "nbconvert_exporter": "python",
   "pygments_lexer": "ipython3",
   "version": "3.12.2"
  }
 },
 "nbformat": 4,
 "nbformat_minor": 5
}
